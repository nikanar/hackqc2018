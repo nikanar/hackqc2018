{
 "cells": [
  {
   "cell_type": "code",
   "execution_count": 1,
   "metadata": {},
   "outputs": [],
   "source": [
    "import csv\n",
    "from collections import defaultdict\n",
    "import xlrd\n",
    "\n",
    "def parse_xlsx(f):\n",
    "    book = xlrd.open_workbook(f)\n",
    "    assert book.nsheets == 1\n",
    "    \n",
    "    sh = book.sheet_by_index(0)\n",
    "    headers = [sh.cell_value(rowx=0, colx=i) for i in range(sh.ncols)]\n",
    "    res = {}\n",
    "    for i in range(sh.ncols):\n",
    "        res[headers[i]] = [sh.cell_value(rowx=j, colx=i)  for j in range(1, sh.nrows)]\n",
    "    \n",
    "    return res\n",
    "\n",
    "def parse_csv(f):\n",
    "    data = defaultdict(list)\n",
    "    with open(\"/home/louis/code/hackqc2018/map/data/montrealnordarbrespublics20161207.csv\") as fp:\n",
    "        reader = csv.reader(fp)\n",
    "        headers = next(reader)\n",
    "        for row in reader:\n",
    "            for h, c in zip(headers, row):\n",
    "                data[h].append(c)\n",
    "\n",
    "    return dict(data)\n",
    "#         print(row)"
   ]
  },
  {
   "cell_type": "code",
   "execution_count": 90,
   "metadata": {},
   "outputs": [
    {
     "name": "stderr",
     "output_type": "stream",
     "text": [
      " 19%|█▉        | 3/16 [00:05<00:25,  1.97s/it]"
     ]
    },
    {
     "name": "stdout",
     "output_type": "stream",
     "text": [
      "Error on etatinventairearbrespublicspararrondissement.xlsx\n",
      "XLRDError(\"Unsupported format, or corrupt file: Expected BOF record; found b'Num\\\\xc3\\\\xa9ro '\",)\n"
     ]
    },
    {
     "name": "stderr",
     "output_type": "stream",
     "text": [
      "100%|██████████| 16/16 [00:56<00:00,  3.51s/it]\n"
     ]
    }
   ],
   "source": [
    "import os\n",
    "from tqdm import tqdm\n",
    "path = \"/home/louis/code/hackqc2018/map/data/trees\"\n",
    "datas = {}\n",
    "for file in tqdm(os.listdir(path)):\n",
    "    try:\n",
    "        file_path = \"{}/{}\".format(path, file)\n",
    "        if file.endswith('.csv'):\n",
    "            datas[file] = parse_csv(file_path)\n",
    "        elif file.endswith('.xlsx'):\n",
    "            datas[file] = parse_xlsx(file_path)\n",
    "        else:\n",
    "            raise ValueError(file)\n",
    "    except Exception as e:\n",
    "        print(\"Error on {}\".format(file))\n",
    "        print(e.__repr__())\n",
    "    "
   ]
  },
  {
   "cell_type": "code",
   "execution_count": 91,
   "metadata": {},
   "outputs": [
    {
     "name": "stderr",
     "output_type": "stream",
     "text": [
      "100%|██████████| 24/24 [00:00<00:00, 88.06it/s]\n"
     ]
    }
   ],
   "source": [
    "from itertools import chain\n",
    "\n",
    "keys = [list(d) for d in datas.values()][0]\n",
    "res = {}\n",
    "\n",
    "for k in tqdm(keys):\n",
    "    res[k] = [e for d in datas.values() for e in d[k] ]\n",
    "\n"
   ]
  },
  {
   "cell_type": "code",
   "execution_count": 92,
   "metadata": {},
   "outputs": [],
   "source": [
    "headers = list(res)\n",
    "\n",
    "rows = [row for row in zip(*res.values()) if row[8] and row[9]]\n"
   ]
  },
  {
   "cell_type": "code",
   "execution_count": null,
   "metadata": {},
   "outputs": [],
   "source": []
  },
  {
   "cell_type": "code",
   "execution_count": 22,
   "metadata": {},
   "outputs": [
    {
     "data": {
      "text/plain": [
       "{'',\n",
       " '2002-05-30',\n",
       " '2002-06-12',\n",
       " '2002-09-06',\n",
       " '2004-08-19',\n",
       " '2004-12-01',\n",
       " '2005-08-11',\n",
       " '2012-09-25',\n",
       " 'A déterminer',\n",
       " 'Copropriété',\n",
       " 'Mitoyen',\n",
       " 'Privé',\n",
       " 'Ville'}"
      ]
     },
     "execution_count": 22,
     "metadata": {},
     "output_type": "execute_result"
    }
   ],
   "source": [
    "set(res['Propriété'])\n"
   ]
  },
  {
   "cell_type": "code",
   "execution_count": 112,
   "metadata": {},
   "outputs": [
    {
     "ename": "SyntaxError",
     "evalue": "unexpected EOF while parsing (<ipython-input-112-5042dd02c8fe>, line 10)",
     "output_type": "error",
     "traceback": [
      "\u001b[0;36m  File \u001b[0;32m\"<ipython-input-112-5042dd02c8fe>\"\u001b[0;36m, line \u001b[0;32m10\u001b[0m\n\u001b[0;31m    return [[float(e) for e in line.split(',') for line in output.split('\\n')]\u001b[0m\n\u001b[0m                                                                              ^\u001b[0m\n\u001b[0;31mSyntaxError\u001b[0m\u001b[0;31m:\u001b[0m unexpected EOF while parsing\n"
     ]
    }
   ],
   "source": [
    "from subprocess import Popen, PIPE\n",
    "converter_js = \"/home/louis/code/hackqc2018/Geographic-MTM-to-LatLon-Converter/src/geographic-mtm-converter.js\"\n",
    "\n",
    "def convert(args):\n",
    "    \"\"\" args is a list of triplet (w, h, zone)\n",
    "        return a list of (lat,long)\n",
    "    \"\"\"\n",
    "    payload = \"\".join(\"{}, {}, {}\\n\".format(*a) for a in args).encode('utf8')\n",
    "\n",
    "    with Popen([\"node\", converter_js], stdout=PIPE, stdin=PIPE) as proc:\n",
    "        output = proc.communicate(input=payload)[0].decode('utf8').strip()\n",
    "        return [[float(e) for e in line.split(',')] for line in output.split('\\n')]\n",
    "\n"
   ]
  },
  {
   "cell_type": "code",
   "execution_count": 103,
   "metadata": {},
   "outputs": [
    {
     "name": "stderr",
     "output_type": "stream",
     "text": [
      "292it [00:53,  5.44it/s]                             \n"
     ]
    }
   ],
   "source": [
    "from pymongo import MongoClient, GEO2D\n",
    "import utm\n",
    "\n",
    "db = MongoClient()['hackqc2018']\n",
    "db.trees.create_index([(\"loc\", GEO2D)])\n",
    "\n",
    "def chunks(l, n):\n",
    "    for i in range(0, len(l), n):\n",
    "        yield l[i:i + n]\n",
    "\n",
    "\n",
    "for chk_rows in tqdm(chunks(rows, 1000), total=len(rows)/1000):\n",
    "    latlons = convert([(float(row[8]), float(row[9]), 8) for row in chk_rows])\n",
    "    db.trees.insert_many([{\n",
    "        'loc': latlon,\n",
    "        **dict(zip(headers, row))\n",
    "    } for row, latlon in zip(chk_rows, latlons)])\n"
   ]
  },
  {
   "cell_type": "code",
   "execution_count": 7,
   "metadata": {},
   "outputs": [],
   "source": []
  },
  {
   "cell_type": "code",
   "execution_count": 116,
   "metadata": {},
   "outputs": [
    {
     "name": "stderr",
     "output_type": "stream",
     "text": [
      "1760it [00:00, 25984.54it/s]\n"
     ]
    }
   ],
   "source": [
    "from geojson import Feature, Point, FeatureCollection, dumps\n",
    "\n",
    "\n",
    "\n",
    "cursor = db.trees.find({'loc': {'$geoWithin': {\n",
    "    '$box': [\n",
    "          [45.5166326,-73.6007412],\n",
    "          [45.524072, -73.582893]\n",
    "        ]\n",
    "}}})\n",
    "\n",
    "fc = FeatureCollection([Feature(geometry=Point(doc['loc'][::-1]), properties={\n",
    "    'type': doc['Essence_Français'],\n",
    "#     'age': doc['Date_plant']\n",
    "}) for doc in tqdm(cursor)])\n",
    "\n",
    "\n",
    "with open(\"/home/louis/code/hackqc2018/map/src/trees.js\", 'w') as fp:\n",
    "    fp.write(\"\"\"module.exports = (()=>{\n",
    "        return %s\n",
    "    })()\"\"\"%dumps(fc))\n",
    "    "
   ]
  },
  {
   "cell_type": "code",
   "execution_count": null,
   "metadata": {},
   "outputs": [],
   "source": []
  },
  {
   "cell_type": "code",
   "execution_count": 43,
   "metadata": {},
   "outputs": [],
   "source": [
    "TESTS = {\n",
    "    (294551.328 ,   5044698.908): (45.54212936363354, -73.63123853240397),\n",
    "    (296354.436, 5046722.007):(45.56035808507587, -73.60818394603155),\n",
    "    (296352.045, 5046719.009):(45.56033107909284, -73.608214521844)\n",
    "}"
   ]
  },
  {
   "cell_type": "code",
   "execution_count": 68,
   "metadata": {},
   "outputs": [
    {
     "name": "stdout",
     "output_type": "stream",
     "text": [
      "0.0 0.0\n",
      "0.0 0.0\n",
      "0.0 0.0\n"
     ]
    }
   ],
   "source": [
    "for mtm, latlon in TESTS.items():\n",
    "    r = convert(*mtm, 8)\n",
    "    "
   ]
  },
  {
   "cell_type": "code",
   "execution_count": 118,
   "metadata": {},
   "outputs": [],
   "source": [
    " from owslib.wms import WebMapService\n",
    "wms = WebMapService('http://wms.jpl.nasa.gov/wms.cgi', version='1.1.1')\n"
   ]
  },
  {
   "cell_type": "code",
   "execution_count": null,
   "metadata": {},
   "outputs": [],
   "source": []
  }
 ],
 "metadata": {
  "kernelspec": {
   "display_name": "hackqc2018",
   "language": "python",
   "name": "hackqc2018"
  },
  "language_info": {
   "codemirror_mode": {
    "name": "ipython",
    "version": 3
   },
   "file_extension": ".py",
   "mimetype": "text/x-python",
   "name": "python",
   "nbconvert_exporter": "python",
   "pygments_lexer": "ipython3",
   "version": "3.6.3"
  }
 },
 "nbformat": 4,
 "nbformat_minor": 2
}
